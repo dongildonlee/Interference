{
 "cells": [
  {
   "cell_type": "code",
   "execution_count": 1,
   "id": "2a29519d",
   "metadata": {
    "tags": []
   },
   "outputs": [],
   "source": [
    "import numpy as np\n",
    "import pandas as pd\n",
    "import time\n",
    "import sys\n",
    "import os\n",
    "import h5py\n",
    "from joblib import Parallel, delayed\n",
    "sys.path.append('../')\n",
    "from packages import actv_analysis, svm, load_csv, stats, objects\n",
    "import pickle\n",
    "import re\n",
    "import glob"
   ]
  },
  {
   "cell_type": "code",
   "execution_count": 4,
   "id": "308cadbc",
   "metadata": {
    "tags": []
   },
   "outputs": [
    {
     "name": "stdout",
     "output_type": "stream",
     "text": [
      "Network1 Relu2 Epoch20\n",
      "Pickle file found.\n",
      "Network2 Relu2 Epoch20\n",
      "Pickle file found.\n",
      "Network3 Relu2 Epoch20\n",
      "Pickle file found.\n",
      "Network4 Relu2 Epoch20\n",
      "Pickle file found.\n",
      "Network5 Relu2 Epoch20\n",
      "Pickle file found.\n",
      "Network6 Relu2 Epoch20\n",
      "Pickle file found.\n",
      "Network7 Relu2 Epoch20\n",
      "Pickle file found.\n",
      "Network8 Relu2 Epoch20\n",
      "Pickle file found.\n",
      "Network9 Relu2 Epoch20\n",
      "Pickle file found.\n",
      "Network10 Relu2 Epoch20\n",
      "Pickle file found.\n",
      "Network1 Relu2 Epoch30\n",
      "Pickle file found.\n",
      "Network2 Relu2 Epoch30\n",
      "Pickle file found.\n",
      "Network3 Relu2 Epoch30\n",
      "Pickle file found.\n",
      "Loading activity data to see if anova2 is complete.\n",
      "--- 277.43033027648926 seconds ---\n",
      "Updated no_response attributes of the units.\n",
      "Updated no_response_subset attributes of the units.\n",
      "Updated PN and PS attributes of the units.\n",
      "Updated response rates of the units.\n",
      "91.64188252665892% units are incomplete!\n",
      "Starting with 3000 number of units at a time.\n",
      "Processing net 3, relu 2, epoch 30, block 1/44\n",
      "--- 236.8156921863556 seconds ---\n",
      "Successfully saved the updated units to pkl/4to20/network3_Relu2_epoch30_4to20.pkl\n",
      "Successfully saved the updated units to csv/network3_Relu2_epoch30_obj_4to20.csv\n",
      "Processing net 3, relu 2, epoch 30, block 2/44\n",
      "--- 230.18317413330078 seconds ---\n",
      "Successfully saved the updated units to pkl/4to20/network3_Relu2_epoch30_4to20.pkl\n",
      "Successfully saved the updated units to csv/network3_Relu2_epoch30_obj_4to20.csv\n",
      "Processing net 3, relu 2, epoch 30, block 3/44\n",
      "--- 233.65852689743042 seconds ---\n",
      "Successfully saved the updated units to pkl/4to20/network3_Relu2_epoch30_4to20.pkl\n",
      "Successfully saved the updated units to csv/network3_Relu2_epoch30_obj_4to20.csv\n",
      "Processing net 3, relu 2, epoch 30, block 4/44\n",
      "--- 228.238263130188 seconds ---\n",
      "Successfully saved the updated units to pkl/4to20/network3_Relu2_epoch30_4to20.pkl\n",
      "Successfully saved the updated units to csv/network3_Relu2_epoch30_obj_4to20.csv\n",
      "Processing net 3, relu 2, epoch 30, block 5/44\n",
      "--- 231.65083289146423 seconds ---\n",
      "Successfully saved the updated units to pkl/4to20/network3_Relu2_epoch30_4to20.pkl\n",
      "Successfully saved the updated units to csv/network3_Relu2_epoch30_obj_4to20.csv\n",
      "Processing net 3, relu 2, epoch 30, block 6/44\n",
      "--- 237.02159905433655 seconds ---\n",
      "Successfully saved the updated units to pkl/4to20/network3_Relu2_epoch30_4to20.pkl\n",
      "Successfully saved the updated units to csv/network3_Relu2_epoch30_obj_4to20.csv\n",
      "Processing net 3, relu 2, epoch 30, block 7/44\n",
      "--- 236.14692091941833 seconds ---\n",
      "Successfully saved the updated units to pkl/4to20/network3_Relu2_epoch30_4to20.pkl\n",
      "Successfully saved the updated units to csv/network3_Relu2_epoch30_obj_4to20.csv\n",
      "Processing net 3, relu 2, epoch 30, block 8/44\n",
      "--- 229.2071671485901 seconds ---\n",
      "Successfully saved the updated units to pkl/4to20/network3_Relu2_epoch30_4to20.pkl\n",
      "Successfully saved the updated units to csv/network3_Relu2_epoch30_obj_4to20.csv\n",
      "Processing net 3, relu 2, epoch 30, block 9/44\n",
      "--- 225.71121883392334 seconds ---\n",
      "Successfully saved the updated units to pkl/4to20/network3_Relu2_epoch30_4to20.pkl\n",
      "Successfully saved the updated units to csv/network3_Relu2_epoch30_obj_4to20.csv\n",
      "Processing net 3, relu 2, epoch 30, block 10/44\n",
      "--- 226.64324712753296 seconds ---\n",
      "Successfully saved the updated units to pkl/4to20/network3_Relu2_epoch30_4to20.pkl\n",
      "Successfully saved the updated units to csv/network3_Relu2_epoch30_obj_4to20.csv\n",
      "Processing net 3, relu 2, epoch 30, block 11/44\n",
      "--- 227.25160384178162 seconds ---\n",
      "Successfully saved the updated units to pkl/4to20/network3_Relu2_epoch30_4to20.pkl\n",
      "Successfully saved the updated units to csv/network3_Relu2_epoch30_obj_4to20.csv\n",
      "Processing net 3, relu 2, epoch 30, block 12/44\n",
      "--- 226.3096911907196 seconds ---\n",
      "Successfully saved the updated units to pkl/4to20/network3_Relu2_epoch30_4to20.pkl\n",
      "Successfully saved the updated units to csv/network3_Relu2_epoch30_obj_4to20.csv\n",
      "Processing net 3, relu 2, epoch 30, block 13/44\n",
      "--- 227.8788230419159 seconds ---\n",
      "Successfully saved the updated units to pkl/4to20/network3_Relu2_epoch30_4to20.pkl\n",
      "Successfully saved the updated units to csv/network3_Relu2_epoch30_obj_4to20.csv\n",
      "Processing net 3, relu 2, epoch 30, block 14/44\n",
      "--- 235.28358006477356 seconds ---\n",
      "Successfully saved the updated units to pkl/4to20/network3_Relu2_epoch30_4to20.pkl\n",
      "Successfully saved the updated units to csv/network3_Relu2_epoch30_obj_4to20.csv\n",
      "Processing net 3, relu 2, epoch 30, block 15/44\n",
      "--- 234.62563920021057 seconds ---\n",
      "Successfully saved the updated units to pkl/4to20/network3_Relu2_epoch30_4to20.pkl\n",
      "Successfully saved the updated units to csv/network3_Relu2_epoch30_obj_4to20.csv\n",
      "Processing net 3, relu 2, epoch 30, block 16/44\n",
      "--- 234.0535979270935 seconds ---\n",
      "Successfully saved the updated units to pkl/4to20/network3_Relu2_epoch30_4to20.pkl\n",
      "Successfully saved the updated units to csv/network3_Relu2_epoch30_obj_4to20.csv\n",
      "Processing net 3, relu 2, epoch 30, block 17/44\n",
      "--- 234.38978672027588 seconds ---\n",
      "Successfully saved the updated units to pkl/4to20/network3_Relu2_epoch30_4to20.pkl\n",
      "Successfully saved the updated units to csv/network3_Relu2_epoch30_obj_4to20.csv\n",
      "Processing net 3, relu 2, epoch 30, block 18/44\n",
      "--- 234.61436223983765 seconds ---\n",
      "Successfully saved the updated units to pkl/4to20/network3_Relu2_epoch30_4to20.pkl\n",
      "Successfully saved the updated units to csv/network3_Relu2_epoch30_obj_4to20.csv\n",
      "Processing net 3, relu 2, epoch 30, block 19/44\n",
      "--- 229.58735013008118 seconds ---\n",
      "Successfully saved the updated units to pkl/4to20/network3_Relu2_epoch30_4to20.pkl\n",
      "Successfully saved the updated units to csv/network3_Relu2_epoch30_obj_4to20.csv\n",
      "Processing net 3, relu 2, epoch 30, block 20/44\n",
      "--- 228.4874770641327 seconds ---\n",
      "Successfully saved the updated units to pkl/4to20/network3_Relu2_epoch30_4to20.pkl\n",
      "Successfully saved the updated units to csv/network3_Relu2_epoch30_obj_4to20.csv\n",
      "Processing net 3, relu 2, epoch 30, block 21/44\n",
      "--- 230.95892810821533 seconds ---\n",
      "Successfully saved the updated units to pkl/4to20/network3_Relu2_epoch30_4to20.pkl\n",
      "Successfully saved the updated units to csv/network3_Relu2_epoch30_obj_4to20.csv\n",
      "Processing net 3, relu 2, epoch 30, block 22/44\n",
      "--- 227.89486575126648 seconds ---\n",
      "Successfully saved the updated units to pkl/4to20/network3_Relu2_epoch30_4to20.pkl\n",
      "Successfully saved the updated units to csv/network3_Relu2_epoch30_obj_4to20.csv\n",
      "Processing net 3, relu 2, epoch 30, block 23/44\n",
      "--- 231.04598593711853 seconds ---\n",
      "Successfully saved the updated units to pkl/4to20/network3_Relu2_epoch30_4to20.pkl\n",
      "Successfully saved the updated units to csv/network3_Relu2_epoch30_obj_4to20.csv\n",
      "Processing net 3, relu 2, epoch 30, block 24/44\n",
      "--- 232.797682762146 seconds ---\n",
      "Successfully saved the updated units to pkl/4to20/network3_Relu2_epoch30_4to20.pkl\n",
      "Successfully saved the updated units to csv/network3_Relu2_epoch30_obj_4to20.csv\n",
      "Processing net 3, relu 2, epoch 30, block 25/44\n",
      "--- 231.20618176460266 seconds ---\n",
      "Successfully saved the updated units to pkl/4to20/network3_Relu2_epoch30_4to20.pkl\n",
      "Successfully saved the updated units to csv/network3_Relu2_epoch30_obj_4to20.csv\n",
      "Processing net 3, relu 2, epoch 30, block 26/44\n",
      "--- 235.7977352142334 seconds ---\n",
      "Successfully saved the updated units to pkl/4to20/network3_Relu2_epoch30_4to20.pkl\n",
      "Successfully saved the updated units to csv/network3_Relu2_epoch30_obj_4to20.csv\n",
      "Processing net 3, relu 2, epoch 30, block 27/44\n",
      "--- 226.5676248073578 seconds ---\n",
      "Successfully saved the updated units to pkl/4to20/network3_Relu2_epoch30_4to20.pkl\n",
      "Successfully saved the updated units to csv/network3_Relu2_epoch30_obj_4to20.csv\n",
      "Processing net 3, relu 2, epoch 30, block 28/44\n",
      "--- 230.2257478237152 seconds ---\n",
      "Successfully saved the updated units to pkl/4to20/network3_Relu2_epoch30_4to20.pkl\n",
      "Successfully saved the updated units to csv/network3_Relu2_epoch30_obj_4to20.csv\n",
      "Processing net 3, relu 2, epoch 30, block 29/44\n",
      "--- 225.84686732292175 seconds ---\n",
      "Successfully saved the updated units to pkl/4to20/network3_Relu2_epoch30_4to20.pkl\n",
      "Successfully saved the updated units to csv/network3_Relu2_epoch30_obj_4to20.csv\n",
      "Processing net 3, relu 2, epoch 30, block 30/44\n",
      "--- 229.8367931842804 seconds ---\n",
      "Successfully saved the updated units to pkl/4to20/network3_Relu2_epoch30_4to20.pkl\n",
      "Successfully saved the updated units to csv/network3_Relu2_epoch30_obj_4to20.csv\n",
      "Processing net 3, relu 2, epoch 30, block 31/44\n",
      "--- 227.31971096992493 seconds ---\n",
      "Successfully saved the updated units to pkl/4to20/network3_Relu2_epoch30_4to20.pkl\n",
      "Successfully saved the updated units to csv/network3_Relu2_epoch30_obj_4to20.csv\n",
      "Processing net 3, relu 2, epoch 30, block 32/44\n",
      "--- 231.50418305397034 seconds ---\n",
      "Successfully saved the updated units to pkl/4to20/network3_Relu2_epoch30_4to20.pkl\n",
      "Successfully saved the updated units to csv/network3_Relu2_epoch30_obj_4to20.csv\n",
      "Processing net 3, relu 2, epoch 30, block 33/44\n",
      "--- 232.83334302902222 seconds ---\n",
      "Successfully saved the updated units to pkl/4to20/network3_Relu2_epoch30_4to20.pkl\n",
      "Successfully saved the updated units to csv/network3_Relu2_epoch30_obj_4to20.csv\n",
      "Processing net 3, relu 2, epoch 30, block 34/44\n",
      "--- 226.77028608322144 seconds ---\n",
      "Successfully saved the updated units to pkl/4to20/network3_Relu2_epoch30_4to20.pkl\n",
      "Successfully saved the updated units to csv/network3_Relu2_epoch30_obj_4to20.csv\n",
      "Processing net 3, relu 2, epoch 30, block 35/44\n",
      "--- 234.4481258392334 seconds ---\n",
      "Successfully saved the updated units to pkl/4to20/network3_Relu2_epoch30_4to20.pkl\n",
      "Successfully saved the updated units to csv/network3_Relu2_epoch30_obj_4to20.csv\n",
      "Processing net 3, relu 2, epoch 30, block 36/44\n",
      "--- 235.52301502227783 seconds ---\n",
      "Successfully saved the updated units to pkl/4to20/network3_Relu2_epoch30_4to20.pkl\n",
      "Successfully saved the updated units to csv/network3_Relu2_epoch30_obj_4to20.csv\n",
      "Processing net 3, relu 2, epoch 30, block 37/44\n",
      "--- 235.55563592910767 seconds ---\n",
      "Successfully saved the updated units to pkl/4to20/network3_Relu2_epoch30_4to20.pkl\n",
      "Successfully saved the updated units to csv/network3_Relu2_epoch30_obj_4to20.csv\n",
      "Processing net 3, relu 2, epoch 30, block 38/44\n",
      "--- 561.7214212417603 seconds ---\n",
      "Successfully saved the updated units to pkl/4to20/network3_Relu2_epoch30_4to20.pkl\n",
      "Successfully saved the updated units to csv/network3_Relu2_epoch30_obj_4to20.csv\n",
      "Processing net 3, relu 2, epoch 30, block 39/44\n",
      "--- 248.7217378616333 seconds ---\n",
      "Successfully saved the updated units to pkl/4to20/network3_Relu2_epoch30_4to20.pkl\n",
      "Successfully saved the updated units to csv/network3_Relu2_epoch30_obj_4to20.csv\n",
      "Processing net 3, relu 2, epoch 30, block 40/44\n",
      "--- 230.83413100242615 seconds ---\n",
      "Successfully saved the updated units to pkl/4to20/network3_Relu2_epoch30_4to20.pkl\n",
      "Successfully saved the updated units to csv/network3_Relu2_epoch30_obj_4to20.csv\n",
      "Processing net 3, relu 2, epoch 30, block 41/44\n",
      "--- 230.94377493858337 seconds ---\n",
      "Successfully saved the updated units to pkl/4to20/network3_Relu2_epoch30_4to20.pkl\n",
      "Successfully saved the updated units to csv/network3_Relu2_epoch30_obj_4to20.csv\n",
      "Processing net 3, relu 2, epoch 30, block 42/44\n",
      "--- 229.94541573524475 seconds ---\n",
      "Successfully saved the updated units to pkl/4to20/network3_Relu2_epoch30_4to20.pkl\n",
      "Successfully saved the updated units to csv/network3_Relu2_epoch30_obj_4to20.csv\n",
      "Processing net 3, relu 2, epoch 30, block 43/44\n",
      "--- 231.76449584960938 seconds ---\n",
      "Successfully saved the updated units to pkl/4to20/network3_Relu2_epoch30_4to20.pkl\n",
      "Successfully saved the updated units to csv/network3_Relu2_epoch30_obj_4to20.csv\n",
      "Processing net 3, relu 2, epoch 30, block 44/44\n",
      "--- 201.1397740840912 seconds ---\n",
      "Successfully saved the updated units to pkl/4to20/network3_Relu2_epoch30_4to20.pkl\n",
      "Successfully saved the updated units to csv/network3_Relu2_epoch30_obj_4to20.csv\n",
      "Network4 Relu2 Epoch30\n",
      "Looking for backup pkl file..\n",
      "No matching backup files found.\n",
      "Neither CSV file csv/network4_Relu2_epoch30_obj_4to20.csv nor backup file found. Creating a new list of unit objects..\n",
      "Loading activity data to see if anova2 is complete.\n",
      "--- 288.67071413993835 seconds ---\n",
      "Updated no_response attributes of the units.\n",
      "Updated no_response_subset attributes of the units.\n",
      "Updated PN and PS attributes of the units.\n",
      "Updated response rates of the units.\n",
      "100.0% units are incomplete!\n",
      "Starting with 3000 number of units at a time.\n",
      "Processing net 4, relu 2, epoch 30, block 1/42\n",
      "--- 237.17896604537964 seconds ---\n",
      "Successfully saved the updated units to pkl/4to20/network4_Relu2_epoch30_4to20.pkl\n",
      "Successfully saved the updated units to csv/network4_Relu2_epoch30_obj_4to20.csv\n",
      "Processing net 4, relu 2, epoch 30, block 2/42\n",
      "--- 231.52705001831055 seconds ---\n",
      "Successfully saved the updated units to pkl/4to20/network4_Relu2_epoch30_4to20.pkl\n",
      "Successfully saved the updated units to csv/network4_Relu2_epoch30_obj_4to20.csv\n",
      "Processing net 4, relu 2, epoch 30, block 3/42\n",
      "--- 233.02154421806335 seconds ---\n",
      "Successfully saved the updated units to pkl/4to20/network4_Relu2_epoch30_4to20.pkl\n",
      "Successfully saved the updated units to csv/network4_Relu2_epoch30_obj_4to20.csv\n",
      "Processing net 4, relu 2, epoch 30, block 4/42\n",
      "--- 234.52839303016663 seconds ---\n",
      "Successfully saved the updated units to pkl/4to20/network4_Relu2_epoch30_4to20.pkl\n",
      "Successfully saved the updated units to csv/network4_Relu2_epoch30_obj_4to20.csv\n",
      "Processing net 4, relu 2, epoch 30, block 5/42\n",
      "--- 230.31778931617737 seconds ---\n",
      "Successfully saved the updated units to pkl/4to20/network4_Relu2_epoch30_4to20.pkl\n",
      "Successfully saved the updated units to csv/network4_Relu2_epoch30_obj_4to20.csv\n",
      "Processing net 4, relu 2, epoch 30, block 6/42\n",
      "--- 234.1937448978424 seconds ---\n",
      "Successfully saved the updated units to pkl/4to20/network4_Relu2_epoch30_4to20.pkl\n",
      "Successfully saved the updated units to csv/network4_Relu2_epoch30_obj_4to20.csv\n",
      "Processing net 4, relu 2, epoch 30, block 7/42\n",
      "--- 633.4262537956238 seconds ---\n",
      "Successfully saved the updated units to pkl/4to20/network4_Relu2_epoch30_4to20.pkl\n",
      "Successfully saved the updated units to csv/network4_Relu2_epoch30_obj_4to20.csv\n",
      "Processing net 4, relu 2, epoch 30, block 8/42\n",
      "--- 230.2762110233307 seconds ---\n",
      "Successfully saved the updated units to pkl/4to20/network4_Relu2_epoch30_4to20.pkl\n",
      "Successfully saved the updated units to csv/network4_Relu2_epoch30_obj_4to20.csv\n",
      "Processing net 4, relu 2, epoch 30, block 9/42\n",
      "--- 228.39818596839905 seconds ---\n",
      "Successfully saved the updated units to pkl/4to20/network4_Relu2_epoch30_4to20.pkl\n",
      "Successfully saved the updated units to csv/network4_Relu2_epoch30_obj_4to20.csv\n",
      "Processing net 4, relu 2, epoch 30, block 10/42\n",
      "--- 227.18868899345398 seconds ---\n",
      "Successfully saved the updated units to pkl/4to20/network4_Relu2_epoch30_4to20.pkl\n",
      "Successfully saved the updated units to csv/network4_Relu2_epoch30_obj_4to20.csv\n",
      "Processing net 4, relu 2, epoch 30, block 11/42\n",
      "--- 229.07384300231934 seconds ---\n",
      "Successfully saved the updated units to pkl/4to20/network4_Relu2_epoch30_4to20.pkl\n",
      "Successfully saved the updated units to csv/network4_Relu2_epoch30_obj_4to20.csv\n",
      "Processing net 4, relu 2, epoch 30, block 12/42\n"
     ]
    },
    {
     "ename": "KeyboardInterrupt",
     "evalue": "",
     "output_type": "error",
     "traceback": [
      "\u001b[0;31m---------------------------------------------------------------------------\u001b[0m",
      "\u001b[0;31mKeyboardInterrupt\u001b[0m                         Traceback (most recent call last)",
      "Cell \u001b[0;32mIn[4], line 4\u001b[0m\n\u001b[1;32m      2\u001b[0m \u001b[38;5;28;01mfor\u001b[39;00m epoch \u001b[38;5;129;01min\u001b[39;00m \u001b[38;5;28mrange\u001b[39m(\u001b[38;5;241m20\u001b[39m,\u001b[38;5;241m31\u001b[39m,\u001b[38;5;241m10\u001b[39m):\n\u001b[1;32m      3\u001b[0m     \u001b[38;5;28;01mfor\u001b[39;00m net \u001b[38;5;129;01min\u001b[39;00m \u001b[38;5;28mrange\u001b[39m(\u001b[38;5;241m1\u001b[39m,\u001b[38;5;241m11\u001b[39m):\n\u001b[0;32m----> 4\u001b[0m         \u001b[43mstats\u001b[49m\u001b[38;5;241;43m.\u001b[39;49m\u001b[43mpkl_anova2_V2\u001b[49m\u001b[43m(\u001b[49m\u001b[43mnet\u001b[49m\u001b[43m,\u001b[49m\u001b[43m \u001b[49m\u001b[43mrelu\u001b[49m\u001b[43m,\u001b[49m\u001b[43m \u001b[49m\u001b[43mepoch\u001b[49m\u001b[43m,\u001b[49m\u001b[43m \u001b[49m\u001b[43mmin_nidx\u001b[49m\u001b[38;5;241;43m=\u001b[39;49m\u001b[38;5;241;43m1\u001b[39;49m\u001b[43m,\u001b[49m\u001b[43m \u001b[49m\u001b[43mmax_nidx\u001b[49m\u001b[38;5;241;43m=\u001b[39;49m\u001b[38;5;241;43m9\u001b[39;49m\u001b[43m)\u001b[49m\n",
      "File \u001b[0;32m~/Interference/codes/fig1/../packages/stats.py:650\u001b[0m, in \u001b[0;36mpkl_anova2_V2\u001b[0;34m(net, relu, epoch, min_sz_idx, max_sz_idx, min_nidx, max_nidx, numbers, inst)\u001b[0m\n\u001b[1;32m    648\u001b[0m \u001b[38;5;28;01mtry\u001b[39;00m:\n\u001b[1;32m    649\u001b[0m     start_time \u001b[38;5;241m=\u001b[39m time\u001b[38;5;241m.\u001b[39mtime()\n\u001b[0;32m--> 650\u001b[0m     anova2_results \u001b[38;5;241m=\u001b[39m \u001b[43mParallel\u001b[49m\u001b[43m(\u001b[49m\u001b[43mn_jobs\u001b[49m\u001b[38;5;241;43m=\u001b[39;49m\u001b[38;5;241;43m-\u001b[39;49m\u001b[38;5;241;43m1\u001b[39;49m\u001b[43m)\u001b[49m\u001b[43m(\u001b[49m\u001b[43mdelayed\u001b[49m\u001b[43m(\u001b[49m\u001b[43munits\u001b[49m\u001b[43m[\u001b[49m\u001b[43mu\u001b[49m\u001b[43m]\u001b[49m\u001b[38;5;241;43m.\u001b[39;49m\u001b[43madd_anova2\u001b[49m\u001b[43m)\u001b[49m\u001b[43m(\u001b[49m\u001b[43mactv_2D\u001b[49m\u001b[43m,\u001b[49m\u001b[43m \u001b[49m\u001b[43mnumbers\u001b[49m\u001b[43m,\u001b[49m\u001b[43m \u001b[49m\u001b[43msizes\u001b[49m\u001b[43m,\u001b[49m\u001b[43m \u001b[49m\u001b[43minst\u001b[49m\u001b[43m,\u001b[49m\u001b[43m \u001b[49m\u001b[43mparallel\u001b[49m\u001b[38;5;241;43m=\u001b[39;49m\u001b[38;5;241;43m1\u001b[39;49m\u001b[43m)\u001b[49m\u001b[43m \u001b[49m\u001b[38;5;28;43;01mfor\u001b[39;49;00m\u001b[43m \u001b[49m\u001b[43mu\u001b[49m\u001b[43m \u001b[49m\u001b[38;5;129;43;01min\u001b[39;49;00m\u001b[43m \u001b[49m\u001b[43mblock\u001b[49m\u001b[43m)\u001b[49m\n\u001b[1;32m    651\u001b[0m     \u001b[38;5;28;01mfor\u001b[39;00m i, u \u001b[38;5;129;01min\u001b[39;00m \u001b[38;5;28menumerate\u001b[39m(block):\n\u001b[1;32m    652\u001b[0m         units[u]\u001b[38;5;241m.\u001b[39manova2_numbers \u001b[38;5;241m=\u001b[39m anova2_results[i]\u001b[38;5;241m.\u001b[39mloc[\u001b[38;5;124m'\u001b[39m\u001b[38;5;124mC(number)\u001b[39m\u001b[38;5;124m'\u001b[39m, \u001b[38;5;124m'\u001b[39m\u001b[38;5;124mPR(>F)\u001b[39m\u001b[38;5;124m'\u001b[39m]\n",
      "File \u001b[0;32m~/opt/anaconda3/lib/python3.8/site-packages/joblib/parallel.py:1098\u001b[0m, in \u001b[0;36mParallel.__call__\u001b[0;34m(self, iterable)\u001b[0m\n\u001b[1;32m   1095\u001b[0m     \u001b[38;5;28mself\u001b[39m\u001b[38;5;241m.\u001b[39m_iterating \u001b[38;5;241m=\u001b[39m \u001b[38;5;28;01mFalse\u001b[39;00m\n\u001b[1;32m   1097\u001b[0m \u001b[38;5;28;01mwith\u001b[39;00m \u001b[38;5;28mself\u001b[39m\u001b[38;5;241m.\u001b[39m_backend\u001b[38;5;241m.\u001b[39mretrieval_context():\n\u001b[0;32m-> 1098\u001b[0m     \u001b[38;5;28;43mself\u001b[39;49m\u001b[38;5;241;43m.\u001b[39;49m\u001b[43mretrieve\u001b[49m\u001b[43m(\u001b[49m\u001b[43m)\u001b[49m\n\u001b[1;32m   1099\u001b[0m \u001b[38;5;66;03m# Make sure that we get a last message telling us we are done\u001b[39;00m\n\u001b[1;32m   1100\u001b[0m elapsed_time \u001b[38;5;241m=\u001b[39m time\u001b[38;5;241m.\u001b[39mtime() \u001b[38;5;241m-\u001b[39m \u001b[38;5;28mself\u001b[39m\u001b[38;5;241m.\u001b[39m_start_time\n",
      "File \u001b[0;32m~/opt/anaconda3/lib/python3.8/site-packages/joblib/parallel.py:975\u001b[0m, in \u001b[0;36mParallel.retrieve\u001b[0;34m(self)\u001b[0m\n\u001b[1;32m    973\u001b[0m \u001b[38;5;28;01mtry\u001b[39;00m:\n\u001b[1;32m    974\u001b[0m     \u001b[38;5;28;01mif\u001b[39;00m \u001b[38;5;28mgetattr\u001b[39m(\u001b[38;5;28mself\u001b[39m\u001b[38;5;241m.\u001b[39m_backend, \u001b[38;5;124m'\u001b[39m\u001b[38;5;124msupports_timeout\u001b[39m\u001b[38;5;124m'\u001b[39m, \u001b[38;5;28;01mFalse\u001b[39;00m):\n\u001b[0;32m--> 975\u001b[0m         \u001b[38;5;28mself\u001b[39m\u001b[38;5;241m.\u001b[39m_output\u001b[38;5;241m.\u001b[39mextend(\u001b[43mjob\u001b[49m\u001b[38;5;241;43m.\u001b[39;49m\u001b[43mget\u001b[49m\u001b[43m(\u001b[49m\u001b[43mtimeout\u001b[49m\u001b[38;5;241;43m=\u001b[39;49m\u001b[38;5;28;43mself\u001b[39;49m\u001b[38;5;241;43m.\u001b[39;49m\u001b[43mtimeout\u001b[49m\u001b[43m)\u001b[49m)\n\u001b[1;32m    976\u001b[0m     \u001b[38;5;28;01melse\u001b[39;00m:\n\u001b[1;32m    977\u001b[0m         \u001b[38;5;28mself\u001b[39m\u001b[38;5;241m.\u001b[39m_output\u001b[38;5;241m.\u001b[39mextend(job\u001b[38;5;241m.\u001b[39mget())\n",
      "File \u001b[0;32m~/opt/anaconda3/lib/python3.8/site-packages/joblib/_parallel_backends.py:567\u001b[0m, in \u001b[0;36mLokyBackend.wrap_future_result\u001b[0;34m(future, timeout)\u001b[0m\n\u001b[1;32m    564\u001b[0m \u001b[38;5;250m\u001b[39m\u001b[38;5;124;03m\"\"\"Wrapper for Future.result to implement the same behaviour as\u001b[39;00m\n\u001b[1;32m    565\u001b[0m \u001b[38;5;124;03mAsyncResults.get from multiprocessing.\"\"\"\u001b[39;00m\n\u001b[1;32m    566\u001b[0m \u001b[38;5;28;01mtry\u001b[39;00m:\n\u001b[0;32m--> 567\u001b[0m     \u001b[38;5;28;01mreturn\u001b[39;00m \u001b[43mfuture\u001b[49m\u001b[38;5;241;43m.\u001b[39;49m\u001b[43mresult\u001b[49m\u001b[43m(\u001b[49m\u001b[43mtimeout\u001b[49m\u001b[38;5;241;43m=\u001b[39;49m\u001b[43mtimeout\u001b[49m\u001b[43m)\u001b[49m\n\u001b[1;32m    568\u001b[0m \u001b[38;5;28;01mexcept\u001b[39;00m CfTimeoutError \u001b[38;5;28;01mas\u001b[39;00m e:\n\u001b[1;32m    569\u001b[0m     \u001b[38;5;28;01mraise\u001b[39;00m \u001b[38;5;167;01mTimeoutError\u001b[39;00m \u001b[38;5;28;01mfrom\u001b[39;00m \u001b[38;5;21;01me\u001b[39;00m\n",
      "File \u001b[0;32m~/opt/anaconda3/lib/python3.8/concurrent/futures/_base.py:439\u001b[0m, in \u001b[0;36mFuture.result\u001b[0;34m(self, timeout)\u001b[0m\n\u001b[1;32m    436\u001b[0m \u001b[38;5;28;01melif\u001b[39;00m \u001b[38;5;28mself\u001b[39m\u001b[38;5;241m.\u001b[39m_state \u001b[38;5;241m==\u001b[39m FINISHED:\n\u001b[1;32m    437\u001b[0m     \u001b[38;5;28;01mreturn\u001b[39;00m \u001b[38;5;28mself\u001b[39m\u001b[38;5;241m.\u001b[39m__get_result()\n\u001b[0;32m--> 439\u001b[0m \u001b[38;5;28;43mself\u001b[39;49m\u001b[38;5;241;43m.\u001b[39;49m\u001b[43m_condition\u001b[49m\u001b[38;5;241;43m.\u001b[39;49m\u001b[43mwait\u001b[49m\u001b[43m(\u001b[49m\u001b[43mtimeout\u001b[49m\u001b[43m)\u001b[49m\n\u001b[1;32m    441\u001b[0m \u001b[38;5;28;01mif\u001b[39;00m \u001b[38;5;28mself\u001b[39m\u001b[38;5;241m.\u001b[39m_state \u001b[38;5;129;01min\u001b[39;00m [CANCELLED, CANCELLED_AND_NOTIFIED]:\n\u001b[1;32m    442\u001b[0m     \u001b[38;5;28;01mraise\u001b[39;00m CancelledError()\n",
      "File \u001b[0;32m~/opt/anaconda3/lib/python3.8/threading.py:302\u001b[0m, in \u001b[0;36mCondition.wait\u001b[0;34m(self, timeout)\u001b[0m\n\u001b[1;32m    300\u001b[0m \u001b[38;5;28;01mtry\u001b[39;00m:    \u001b[38;5;66;03m# restore state no matter what (e.g., KeyboardInterrupt)\u001b[39;00m\n\u001b[1;32m    301\u001b[0m     \u001b[38;5;28;01mif\u001b[39;00m timeout \u001b[38;5;129;01mis\u001b[39;00m \u001b[38;5;28;01mNone\u001b[39;00m:\n\u001b[0;32m--> 302\u001b[0m         \u001b[43mwaiter\u001b[49m\u001b[38;5;241;43m.\u001b[39;49m\u001b[43macquire\u001b[49m\u001b[43m(\u001b[49m\u001b[43m)\u001b[49m\n\u001b[1;32m    303\u001b[0m         gotit \u001b[38;5;241m=\u001b[39m \u001b[38;5;28;01mTrue\u001b[39;00m\n\u001b[1;32m    304\u001b[0m     \u001b[38;5;28;01melse\u001b[39;00m:\n",
      "\u001b[0;31mKeyboardInterrupt\u001b[0m: "
     ]
    }
   ],
   "source": [
    "for relu in range(2,3)[::-1]:\n",
    "    for epoch in range(20,31,10):\n",
    "        for net in range(1,11):\n",
    "            stats.pkl_anova2_V2(net, relu, epoch, min_nidx=1, max_nidx=9)    "
   ]
  },
  {
   "cell_type": "markdown",
   "id": "b08d204f-f9a5-4484-8189-2b9a4b5645b2",
   "metadata": {},
   "source": [
    "#### units[13].no_response"
   ]
  },
  {
   "cell_type": "code",
   "execution_count": null,
   "id": "93627282-583f-4984-bcf5-69f7fd399146",
   "metadata": {
    "tags": []
   },
   "outputs": [],
   "source": [
    "avg_actv = np.nanmean(actv_net, axis=2)\n",
    "avg_actv_nxs_ = avg_actv.reshape(actv_net.shape[0], len(numbers), len(sizes))\n",
    "avg_actv_nxs = avg_actv_nxs_[:,:,min_sz_idx:max_sz_idx+1]"
   ]
  },
  {
   "cell_type": "code",
   "execution_count": null,
   "id": "cdfeb357-1a83-4aa5-bc3a-208652481854",
   "metadata": {
    "tags": []
   },
   "outputs": [],
   "source": [
    "np.argmax(avg_actv_nxs,axis=1).shape"
   ]
  },
  {
   "cell_type": "code",
   "execution_count": null,
   "id": "21a6204b-3099-4aef-a6fe-52cbd240b09e",
   "metadata": {
    "tags": []
   },
   "outputs": [],
   "source": [
    "numbers[np.argmax(np.mean(avg_actv_nxs,axis=2),axis=1)]"
   ]
  },
  {
   "cell_type": "code",
   "execution_count": null,
   "id": "7c3569f2-814d-4940-a996-eb4939001674",
   "metadata": {
    "tags": []
   },
   "outputs": [],
   "source": [
    "incomplete_units = np.setdiff1d(incomplete_units, anova2_failed)"
   ]
  },
  {
   "cell_type": "code",
   "execution_count": null,
   "id": "b687ada6-c597-4301-92c9-e8cba8370e68",
   "metadata": {
    "tags": []
   },
   "outputs": [],
   "source": [
    "incomplete_units"
   ]
  },
  {
   "cell_type": "code",
   "execution_count": null,
   "id": "8c645bc9-c4a1-4809-863a-880175479a7e",
   "metadata": {
    "tags": []
   },
   "outputs": [],
   "source": [
    "import pandas as pd\n",
    "import statsmodels.api as sm\n",
    "print(\"Pandas version: \", pd.__version__)\n",
    "print(\"Statsmodels version: \", sm.__version__)\n"
   ]
  },
  {
   "cell_type": "code",
   "execution_count": null,
   "id": "7030a677-9927-4b36-8b54-64c39f19ceb9",
   "metadata": {},
   "outputs": [],
   "source": [
    "df_test = pd.DataFrame({\n",
    "    'number': [1, 2, 3, 1, 2, 3, 1, 2, 3],  # dummy variable number\n",
    "    'size': [1, 1, 1, 2, 2, 2, 3, 3, 3],  # dummy variable size\n",
    "    'activity': [1, 2, 3, 4, 5, 6, 7, 8, 9]  # arbitrary activity values\n",
    "})\n",
    "\n",
    "# Fitting the OLS model:\n",
    "from statsmodels.formula.api import ols\n",
    "model_test = ols('activity ~ C(number) + C(size) + C(number):C(size)', data=df_test).fit()\n",
    "\n",
    "# Running the ANOVA test:\n",
    "from statsmodels.stats.anova import anova_lm\n",
    "stat_test = anova_lm(model_test, typ=2)\n",
    "print(stat_test)"
   ]
  },
  {
   "cell_type": "code",
   "execution_count": null,
   "id": "1aaab896-ecfd-4037-a1d4-6821d5a99a63",
   "metadata": {
    "tags": []
   },
   "outputs": [],
   "source": [
    "units[0].anova2"
   ]
  },
  {
   "cell_type": "code",
   "execution_count": null,
   "id": "5772a576-27cf-45d0-9e99-cb379f2a778e",
   "metadata": {
    "tags": []
   },
   "outputs": [],
   "source": [
    "actv_net = actv_analysis.get_actv_net(net=1,relu=3,epoch=0)"
   ]
  },
  {
   "cell_type": "code",
   "execution_count": null,
   "id": "b55b8992-0935-4713-95ae-13f304b18661",
   "metadata": {
    "tags": []
   },
   "outputs": [],
   "source": [
    "actv_net.shape"
   ]
  },
  {
   "cell_type": "code",
   "execution_count": null,
   "id": "427251d0-cf76-41fb-acc0-31b065055b8e",
   "metadata": {},
   "outputs": [],
   "source": []
  }
 ],
 "metadata": {
  "kernelspec": {
   "display_name": "Python 3 (ipykernel)",
   "language": "python",
   "name": "python3"
  },
  "language_info": {
   "codemirror_mode": {
    "name": "ipython",
    "version": 3
   },
   "file_extension": ".py",
   "mimetype": "text/x-python",
   "name": "python",
   "nbconvert_exporter": "python",
   "pygments_lexer": "ipython3",
   "version": "3.8.12"
  },
  "varInspector": {
   "cols": {
    "lenName": 16,
    "lenType": 16,
    "lenVar": 40
   },
   "kernels_config": {
    "python": {
     "delete_cmd_postfix": "",
     "delete_cmd_prefix": "del ",
     "library": "var_list.py",
     "varRefreshCmd": "print(var_dic_list())"
    },
    "r": {
     "delete_cmd_postfix": ") ",
     "delete_cmd_prefix": "rm(",
     "library": "var_list.r",
     "varRefreshCmd": "cat(var_dic_list()) "
    }
   },
   "types_to_exclude": [
    "module",
    "function",
    "builtin_function_or_method",
    "instance",
    "_Feature"
   ],
   "window_display": false
  }
 },
 "nbformat": 4,
 "nbformat_minor": 5
}
